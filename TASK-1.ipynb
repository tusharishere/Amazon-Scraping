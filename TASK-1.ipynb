{
 "cells": [
  {
   "cell_type": "code",
   "execution_count": 1,
   "id": "00208eb5-7715-4da8-bef4-e69528cab088",
   "metadata": {},
   "outputs": [],
   "source": [
    "#import the libraries\n",
    "from selenium import webdriver\n",
    "from selenium.webdriver.common.by import By\n",
    "from selenium.webdriver.chrome.service import Service as ChromeService\n",
    "from selenium.webdriver.chrome.options import Options\n",
    "from selenium.webdriver.support.ui import WebDriverWait\n",
    "from selenium.webdriver.support import expected_conditions as EC\n",
    "from selenium.common.exceptions import TimeoutException, NoSuchElementException \n",
    "import pandas as pd\n",
    "import pandas as pd"
   ]
  },
  {
   "cell_type": "code",
   "execution_count": 2,
   "id": "d6e90125-2e31-4a04-b3d8-726cac510dfd",
   "metadata": {},
   "outputs": [],
   "source": [
    "# Set up Selenium options\n",
    "chrome_options = Options()\n",
    "chrome_options.add_argument('--headless')  # Run Chrome in headless mode (no GUI)\n",
    "chrome_options.add_argument('--disable-gpu')  # Disable GPU acceleration"
   ]
  },
  {
   "cell_type": "code",
   "execution_count": 3,
   "id": "20ef9faa-3aa5-4663-a509-57a852f11d98",
   "metadata": {},
   "outputs": [],
   "source": [
    "# Set up the Chrome web driver\n",
    "driver_path = 'chromedriver.exe'  # Specify the path to your chromedriver executable\n",
    "driver = webdriver.Chrome(service=ChromeService(executable_path=driver_path), options=chrome_options)"
   ]
  },
  {
   "cell_type": "code",
   "execution_count": 4,
   "id": "de0e335a-c2a6-4bc5-9d76-b14384e3b676",
   "metadata": {},
   "outputs": [],
   "source": [
    "# Amazon URL\n",
    "URL = \"https://www.amazon.in/s?rh=n%3A6612025031&fs=true&ref=lp_6612025031_sar\"\n",
    "# Navigate to the Amazon URL\n",
    "driver.get(URL)"
   ]
  },
  {
   "cell_type": "code",
   "execution_count": 5,
   "id": "a269364d-fb21-41b8-b7f9-a4e9bc9a6581",
   "metadata": {},
   "outputs": [],
   "source": [
    "#initialize empty lists\n",
    "product_links = []\n",
    "Title = []\n",
    "Price = []\n",
    "Rating = []\n",
    "Seller_Name = []\n",
    "c = 0"
   ]
  },
  {
   "cell_type": "code",
   "execution_count": 6,
   "id": "5974df26-2c6b-402e-bb16-c03d31fbada1",
   "metadata": {},
   "outputs": [],
   "source": [
    "# Wait until the product grid is present\n",
    "WebDriverWait(driver, 10).until(EC.presence_of_element_located((By.XPATH, \"//span[@class='rush-component s-latency-cf-section']//div[@data-component-type='s-search-result']\")))\n",
    "\n",
    "# Extract product links from the current page\n",
    "product_links_elements = driver.find_elements(By.XPATH, \"//a[@class='a-link-normal s-underline-text s-underline-link-text s-link-style a-text-normal']\")\n",
    "product_links.extend([link.get_attribute('href') for link in product_links_elements])"
   ]
  },
  {
   "cell_type": "code",
   "execution_count": 7,
   "id": "3a3864bd-791d-432b-b736-5e5ee6320e32",
   "metadata": {},
   "outputs": [
    {
     "name": "stdout",
     "output_type": "stream",
     "text": [
      "completed 1\n",
      "completed 2\n",
      "completed 3\n",
      "completed 4\n",
      "completed 5\n",
      "completed 6\n",
      "completed 7\n",
      "completed 8\n",
      "completed 9\n",
      "completed 10\n",
      "completed 11\n",
      "completed 12\n",
      "completed 13\n",
      "completed 14\n",
      "completed 15\n",
      "completed 16\n",
      "completed 17\n",
      "completed 18\n",
      "completed 19\n",
      "completed 20\n",
      "completed 21\n",
      "completed 22\n",
      "completed 23\n",
      "completed 24\n"
     ]
    }
   ],
   "source": [
    "# Loop through product links on the current page\n",
    "for link in product_links:\n",
    "    # Navigate to the product page\n",
    "    driver.get(link)\n",
    "\n",
    "    # Wait until the title element is present\n",
    "    WebDriverWait(driver, 10).until(EC.presence_of_element_located((By.XPATH, \"//span[@id='productTitle']\")))\n",
    "\n",
    "    # Extract data using XPath\n",
    "    title = driver.find_element(By.XPATH, \"//span[@class='a-size-large product-title-word-break']\").text.strip() if \\\n",
    "        driver.find_elements(By.XPATH, \"//span[@class='a-size-large product-title-word-break']\") else None\n",
    "\n",
    "    price = driver.find_element(By.XPATH, \"//span[@class='a-price aok-align-center reinventPricePriceToPayMargin priceToPay']//span[@class='a-price-whole']\").text.strip() if \\\n",
    "        driver.find_elements(By.XPATH, \"//span[@class='a-price aok-align-center reinventPricePriceToPayMargin priceToPay']//span[@class='a-price-whole']\") else None\n",
    "\n",
    "    rating = driver.find_element(By.XPATH, \"(//span[@class='a-declarative']/a/span[@class='a-size-base a-color-base'])[1]\").text.strip() if \\\n",
    "        driver.find_elements(By.XPATH, \"(//span[@class='a-declarative']/a/span[@class='a-size-base a-color-base'])[1]\") else None\n",
    "\n",
    "    seller_name = driver.find_element(By.XPATH, \"//div[@id='merchant-info']/a[1]/span\").text.strip() if \\\n",
    "        driver.find_elements(By.XPATH, \"//div[@id='merchant-info']/a[1]/span\") else None\n",
    "\n",
    "    Title.append(title)\n",
    "    Price.append(price)\n",
    "    Rating.append(rating)\n",
    "    Seller_Name.append(seller_name)\n",
    "\n",
    "    c = c + 1\n",
    "    print(\"completed\", c)"
   ]
  },
  {
   "cell_type": "code",
   "execution_count": 9,
   "id": "4a13726d-625e-4198-8408-0a7b23589e86",
   "metadata": {},
   "outputs": [],
   "source": [
    "# Create a DataFrame using the scraped data\n",
    "df = pd.DataFrame({\n",
    "    'Product_Name': Title,\n",
    "    'Product_Price': Price,\n",
    "    'Product_Ratings': Rating,\n",
    "    'Seller_Name': Seller_Name\n",
    "})\n",
    "\n",
    "# Save the DataFrame to a CSV file named 'Product_details.csv'\n",
    "df.to_csv('Product_details.csv', index=False)"
   ]
  },
  {
   "cell_type": "code",
   "execution_count": 10,
   "id": "85e7bf09-f281-4b5d-99fa-fbc3af4831da",
   "metadata": {},
   "outputs": [],
   "source": [
    "driver.quit()"
   ]
  },
  {
   "cell_type": "code",
   "execution_count": null,
   "id": "97579315-5e30-4c48-b915-98ca9f7a6461",
   "metadata": {},
   "outputs": [],
   "source": []
  }
 ],
 "metadata": {
  "kernelspec": {
   "display_name": "Python 3 (ipykernel)",
   "language": "python",
   "name": "python3"
  },
  "language_info": {
   "codemirror_mode": {
    "name": "ipython",
    "version": 3
   },
   "file_extension": ".py",
   "mimetype": "text/x-python",
   "name": "python",
   "nbconvert_exporter": "python",
   "pygments_lexer": "ipython3",
   "version": "3.12.0"
  }
 },
 "nbformat": 4,
 "nbformat_minor": 5
}
